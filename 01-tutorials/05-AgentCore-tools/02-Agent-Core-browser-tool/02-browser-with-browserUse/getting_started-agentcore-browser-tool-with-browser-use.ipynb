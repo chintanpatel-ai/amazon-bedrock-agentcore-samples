{
 "cells": [
  {
   "cell_type": "markdown",
   "id": "c6430ac3",
   "metadata": {},
   "source": [
    "# Basic Browser tool usage with Browser-Use SDK\n",
    "\n",
    "## Overview\n",
    "\n",
    "In this tutorial we will learn how to use the open source Browser-Use SDK with Amazon Bedrock Agentcore Browser tool. We will provide examples of using the browser tool headless and view the browser live.\n",
    "\n",
    "\n",
    "### Tutorial Details\n",
    "\n",
    "\n",
    "| Information         | Details                                                                                   |\n",
    "|:--------------------|:-------------------------------------------------------------------------------------------        \n",
    "| Tutorial type       | Conversational                                                                            |\n",
    "| Agent type          | Single                                                                                    |\n",
    "| Agentic Framework   | Broeser-Use                                                                               |\n",
    "| LLM model           | Anthropic Claude 3.7 Sonnet                                                               |\n",
    "| Tutorial components | Using Browser-Use SDK to interact with Bedrock Agentcore browser tool in a headless way   |\n",
    "| Tutorial vertical   | Cross-vertical                                                                            |\n",
    "| Example complexity  | Easy                                                                                      |\n",
    "| SDK used            | Amazon BedrockAgentCore Python SDK, Browser-Use                                           |\n",
    "\n",
    "### Tutorial Architecture\n",
    "\n",
    "In this tutorial we will describe how to use Browser-Use SDK with Agentcore browser tool.  \n",
    "\n",
    "In our example we will send natural language instructions to Browser-Use agent to perform tasks on the Bedrock Agentcore browser in a headless way.\n",
    "\n",
    "\n",
    "### Tutorial Key Features\n",
    "\n",
    "* Using browser tool in a headless way\n",
    "* Using Browser-Use with browser tool"
   ]
  },
  {
   "cell_type": "markdown",
   "id": "0ea131f7",
   "metadata": {},
   "source": [
    "## Prerequisites\n",
    "\n",
    "To execute this tutorial you will need:\n",
    "* Python 3.11+\n",
    "* AWS credentials\n",
    "* Amazon Bedrock AgentCore SDK\n",
    "* Browser-Use SDK "
   ]
  },
  {
   "cell_type": "markdown",
   "id": "1212a355",
   "metadata": {},
   "source": [
    "## How it works\n",
    "\n",
    "A browser tool sandbox is a secure execution environment that enables AI agents to safely interact with web browsers. When a user makes a request, the Large Language Model (LLM) selects appropriate tools and translates commands. These commands are executed within a controlled sandbox environment containing a headless browser and hosted library server (using tools like Playwright). The sandbox provides isolation and security by containing web interactions within a restricted space, preventing unauthorized system access. The agent receives feedback through screenshots and can perform automated tasks while maintaining system security. \n",
    "\n",
    "![architecture local](../images//browser-tool.png)"
   ]
  },
  {
   "cell_type": "markdown",
   "id": "564f8445",
   "metadata": {},
   "source": [
    "## 1. Setting Up the Environment"
   ]
  },
  {
   "cell_type": "markdown",
   "id": "e36e0a32",
   "metadata": {},
   "source": [
    "#### Please run below script to fix authorization headers related issue to make it compactible for the Amazon Bedrock AgentCore Browser"
   ]
  },
  {
   "cell_type": "markdown",
   "id": "d053ac75",
   "metadata": {},
   "source": [
    "### 1.1 Install the Pre-Requisites Libraries "
   ]
  },
  {
   "cell_type": "markdown",
   "id": "743eda26",
   "metadata": {},
   "source": [
    "First, let's install libraries required for the browser tool sandbox client. "
   ]
  },
  {
   "cell_type": "code",
   "execution_count": 2,
   "id": "714f2462",
   "metadata": {},
   "outputs": [],
   "source": [
    "!pip install --force-reinstall -U -r requirements.txt --quiet"
   ]
  },
  {
   "cell_type": "markdown",
   "id": "0dda3bd6",
   "metadata": {},
   "source": [
    "### 1.2 Patch Script for browser-use"
   ]
  },
  {
   "cell_type": "code",
   "execution_count": null,
   "id": "2d626c9b",
   "metadata": {},
   "outputs": [],
   "source": [
    "%%writefile patch_browser_use.py\n",
    "\n",
    "#!/usr/bin/env python3\n",
    "\"\"\"Auto-detect and patch browser_use session.py\"\"\"\n",
    "\n",
    "import os\n",
    "import shutil\n",
    "import sys\n",
    "from pathlib import Path\n",
    "\n",
    "def find_browser_use_path():\n",
    "    \"\"\"Automatically find the browser_use installation path\"\"\"\n",
    "    try:\n",
    "        import browser_use\n",
    "        browser_use_path = Path(browser_use.__file__).parent\n",
    "        session_file = browser_use_path / \"browser\" / \"session.py\"\n",
    "        return str(session_file)\n",
    "    except ImportError:\n",
    "        print(\"❌ browser_use not installed. Install with: pip install browser-use\")\n",
    "        return None\n",
    "\n",
    "def patch_browser_use():\n",
    "    # Auto-detect file path\n",
    "    file_path = find_browser_use_path()\n",
    "    if not file_path:\n",
    "        return False\n",
    "    \n",
    "    if not os.path.exists(file_path):\n",
    "        print(f\"❌ File not found: {file_path}\")\n",
    "        return False\n",
    "    \n",
    "    print(f\"📁 Found browser_use at: {file_path}\")\n",
    "    \n",
    "    # Create backup\n",
    "    backup_path = file_path + \".backup\"\n",
    "    if not os.path.exists(backup_path):\n",
    "        shutil.copy2(file_path, backup_path)\n",
    "        print(f\"💾 Created backup: {backup_path}\")\n",
    "    else:\n",
    "        print(f\"📋 Backup already exists: {backup_path}\")\n",
    "    \n",
    "    # Read file\n",
    "    with open(file_path, 'r') as f:\n",
    "        content = f.read()\n",
    "    \n",
    "    # Replacement 1: Add headers check after cdp_url check\n",
    "    old1 = \"if not cdp_url:\\n\\t\\t\\tprofile_kwargs['is_local'] = True\"\n",
    "    new1 = \"if not cdp_url:\\n\\t\\t\\tprofile_kwargs['is_local'] = True\\n\\n\\t\\tif headers:\\n\\t\\t\\tprofile_kwargs['headers'] = headers\"\n",
    "    \n",
    "    if old1 in content and \"if headers:\\n\\t\\t\\tprofile_kwargs['headers'] = headers\" not in content:\n",
    "        content = content.replace(old1, new1)\n",
    "        print(\"✅ Added headers check\")\n",
    "    elif \"if headers:\\n\\t\\t\\tprofile_kwargs['headers'] = headers\" in content:\n",
    "        print(\"✅ Headers check already exists\")\n",
    "    else:\n",
    "        print(\"⚠️ Headers check pattern not found\")\n",
    "    \n",
    "    # Replacement 2: Add headers to CDPClient\n",
    "    old2 = \"self._cdp_client_root = CDPClient(self.cdp_url)\"\n",
    "    new2 = \"self._cdp_client_root = CDPClient(self.cdp_url,  additional_headers=self.browser_profile.headers)\"\n",
    "    \n",
    "    if old2 in content:\n",
    "        content = content.replace(old2, new2)\n",
    "        print(\"✅ Added headers to CDPClient\")\n",
    "    elif \"additional_headers=self.browser_profile.headers\" in content:\n",
    "        print(\"✅ CDPClient headers already exists\")\n",
    "    else:\n",
    "        print(\"⚠️ CDPClient pattern not found\")\n",
    "    \n",
    "    # Write back\n",
    "    with open(file_path, 'w') as f:\n",
    "        f.write(content)\n",
    "    \n",
    "    print(\"🎉 Patching complete!\")\n",
    "    return True\n",
    "\n",
    "if __name__ == \"__main__\":\n",
    "    success = patch_browser_use()\n",
    "    sys.exit(0 if success else 1)"
   ]
  },
  {
   "cell_type": "code",
   "execution_count": null,
   "id": "c5384553",
   "metadata": {},
   "outputs": [],
   "source": [
    "# Run the python script to apply the patch for browser-use\n",
    "!python patch_browser_use.py"
   ]
  },
  {
   "cell_type": "code",
   "execution_count": null,
   "id": "309a6d53",
   "metadata": {},
   "outputs": [],
   "source": [
    "# Restart the Kernal \n",
    "import IPython\n",
    "IPython.Application.instance().kernel.do_shutdown(True)"
   ]
  },
  {
   "cell_type": "markdown",
   "id": "d29a5499",
   "metadata": {},
   "source": [
    "### 1.3 Imports "
   ]
  },
  {
   "cell_type": "markdown",
   "id": "2fc05219",
   "metadata": {},
   "source": [
    " import the necessary initiaize the browser tool sandbox client. "
   ]
  },
  {
   "cell_type": "code",
   "execution_count": 1,
   "id": "a89f7eab",
   "metadata": {},
   "outputs": [],
   "source": [
    "from bedrock_agentcore.tools.browser_client import BrowserClient\n",
    "from browser_use.llm import ChatAnthropicBedrock, ChatAWSBedrock\n",
    "from browser_use import Agent\n",
    "from browser_use import Browser, BrowserProfile\n",
    "from rich.console import Console\n",
    "from contextlib import suppress\n",
    "import asyncio"
   ]
  },
  {
   "cell_type": "code",
   "execution_count": 2,
   "id": "dad07098",
   "metadata": {},
   "outputs": [],
   "source": [
    "console = Console()"
   ]
  },
  {
   "cell_type": "markdown",
   "id": "093f3090",
   "metadata": {},
   "source": [
    "## 2. Setup the browser client\n",
    "We will setup the browser client and wait for it to be ready. Then, we will generate web-socket url and headers \n",
    " \n"
   ]
  },
  {
   "cell_type": "code",
   "execution_count": null,
   "id": "60f355f0",
   "metadata": {},
   "outputs": [],
   "source": [
    "# Setup AWS credentials\n",
    "import os\n",
    "os.environ['AWS_PROFILE'] = 'sandbox-dev'\n",
    "os.environ['AWS_DEFAULT_REGION'] = 'us-west-2'\n",
    "print(\"✅ Using AWS Profile: sandbox-dev\")\n",
    "\n",
    "# Test AWS credentials\n",
    "import boto3\n",
    "\n",
    "try:\n",
    "    sts = boto3.client('sts')\n",
    "    identity = sts.get_caller_identity()\n",
    "    print(\"✅ AWS Credentials working:\")\n",
    "    print(f\"   Account: {identity.get('Account')}\")\n",
    "    print(f\"   User/Role: {identity.get('Arn')}\")\n",
    "except Exception as e:\n",
    "    print(f\"❌ AWS Credentials issue: {e}\")"
   ]
  },
  {
   "cell_type": "code",
   "execution_count": null,
   "id": "c532d851",
   "metadata": {},
   "outputs": [],
   "source": [
    "from boto3.session import Session\n",
    "boto_session = Session()\n",
    "region = boto_session.region_name\n",
    "\n",
    "client = BrowserClient(region)\n",
    "client.start()\n",
    "\n",
    "# Extract ws_url and headers\n",
    "ws_url, headers = client.generate_ws_headers()"
   ]
  },
  {
   "cell_type": "markdown",
   "id": "a10a5875",
   "metadata": {},
   "source": [
    "## 4. Helper function to run browser task\n",
    "Run a browser automation task using browser-use Agent \n",
    "\n",
    "\n"
   ]
  },
  {
   "cell_type": "code",
   "execution_count": 5,
   "id": "9084345a",
   "metadata": {},
   "outputs": [],
   "source": [
    "async def run_browser_task(browser_session: Browser, bedrock_chat: ChatAnthropicBedrock, task: str) -> None:\n",
    "    \"\"\"\n",
    "    Run a browser automation task using browser_use\n",
    "    \n",
    "    Args:\n",
    "        browser_session: Existing browser session to reuse\n",
    "        bedrock_chat: Bedrock chat model instance\n",
    "        task: Natural language task for the agent\n",
    "    \"\"\"\n",
    "    try:\n",
    "        # Show task execution\n",
    "        console.print(f\"\\n[bold blue]🤖 Executing task:[/bold blue] {task}\")\n",
    "        \n",
    "        # Create and run the agent\n",
    "        agent = Agent(\n",
    "            task=task,\n",
    "            llm=bedrock_chat,\n",
    "            browser_session=browser_session\n",
    "        )\n",
    "        \n",
    "        # Run with progress indicator\n",
    "        with console.status(\"[bold green]Running browser automation...[/bold green]\", spinner=\"dots\"):\n",
    "            await agent.run()\n",
    "        \n",
    "        console.print(\"[bold green]✅ Task completed successfully![/bold green]\")\n",
    "        \n",
    "    except Exception as e:\n",
    "        console.print(f\"[bold red]❌ Error during task execution:[/bold red] {str(e)}\")\n",
    "        import traceback\n",
    "        if console.is_terminal:\n",
    "            traceback.print_exc()"
   ]
  },
  {
   "cell_type": "markdown",
   "id": "9b9f974e",
   "metadata": {},
   "source": [
    "## 5. Invoke the browser task using Browser-use profile\n",
    "Create a persistent browser session using CDP WebSocket connection and initialize Bedrock Claude model for automated web tasks. Handle session lifecycle with proper cleanup and execute browser automation tasks via AI-driven commands."
   ]
  },
  {
   "cell_type": "code",
   "execution_count": null,
   "id": "5b3706b7",
   "metadata": {},
   "outputs": [],
   "source": [
    "# Create persistent browser session and model\n",
    "browser_session = None\n",
    "bedrock_chat = None\n",
    "\n",
    "try:\n",
    "     # Create browser profile with headers and timeout \n",
    "    browser_profile = BrowserProfile(\n",
    "        headers=headers,\n",
    "        timeout=1500000,  # 150 seconds timeout\n",
    "    )\n",
    "\n",
    "    # Create a browser session with CDP URL and keep_alive=True for persistence\n",
    "    browser_session = Browser(\n",
    "        cdp_url=ws_url,\n",
    "        browser_profile=browser_profile,\n",
    "        keep_alive=True\n",
    "    )\n",
    "    \n",
    "    # Initialize the browser session\n",
    "    console.print(\"[cyan]🔄 Initializing browser session...[/cyan]\")\n",
    "    await browser_session.start()\n",
    "    \n",
    "    # Create ChatBedrockConverse once\n",
    "    bedrock_chat = ChatAnthropicBedrock(\n",
    "\t\tmodel='us.anthropic.claude-3-7-sonnet-20250219-v1:0',\n",
    "\t\taws_region='us-west-2'\n",
    "\t)\n",
    "    \n",
    "    console.print(\"[green]✅ Browser session initialized and ready for tasks[/green]\\n\")\n",
    "\n",
    "    task = \"Search for a coffee maker on amazon.com and extract details of the first one\" ## Modify the task to run other tasks\n",
    "\n",
    "    await run_browser_task(browser_session, bedrock_chat, task)\n",
    "\n",
    "finally:\n",
    "    # Close the browser session\n",
    "    if browser_session:\n",
    "        console.print(\"\\n[yellow]🔌 Closing browser session...[/yellow]\")\n",
    "        with suppress(Exception):\n",
    "            await browser_session.close()\n",
    "        console.print(\"[green]✅ Browser session closed[/green]\")\n"
   ]
  },
  {
   "cell_type": "markdown",
   "id": "c6597132",
   "metadata": {},
   "source": [
    "## 6. Cleanup\n",
    "Stop the browser session if it hasn't been"
   ]
  },
  {
   "cell_type": "code",
   "execution_count": null,
   "id": "99a79405",
   "metadata": {},
   "outputs": [],
   "source": [
    "client.stop()\n",
    "print(\"Browser session stopped successfully!\")"
   ]
  }
 ],
 "metadata": {
  "kernelspec": {
   "display_name": "AgentCore CFN",
   "language": "python",
   "name": "agentcore-cfn"
  },
  "language_info": {
   "codemirror_mode": {
    "name": "ipython",
    "version": 3
   },
   "file_extension": ".py",
   "mimetype": "text/x-python",
   "name": "python",
   "nbconvert_exporter": "python",
   "pygments_lexer": "ipython3",
   "version": "3.13.5"
  }
 },
 "nbformat": 4,
 "nbformat_minor": 5
}
